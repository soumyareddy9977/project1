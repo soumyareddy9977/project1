{
  "nbformat": 4,
  "nbformat_minor": 0,
  "metadata": {
    "colab": {
      "provenance": [],
      "authorship_tag": "ABX9TyNT3IpD7D64hNYh8FOUw243",
      "include_colab_link": true
    },
    "kernelspec": {
      "name": "python3",
      "display_name": "Python 3"
    },
    "language_info": {
      "name": "python"
    }
  },
  "cells": [
    {
      "cell_type": "markdown",
      "metadata": {
        "id": "view-in-github",
        "colab_type": "text"
      },
      "source": [
        "<a href=\"https://colab.research.google.com/github/soumyareddy9977/project1/blob/main/project_playground.ipynb\" target=\"_parent\"><img src=\"https://colab.research.google.com/assets/colab-badge.svg\" alt=\"Open In Colab\"/></a>"
      ]
    },
    {
      "cell_type": "code",
      "execution_count": 2,
      "metadata": {
        "id": "SBBFBBiGP_P_"
      },
      "outputs": [],
      "source": [
        "import zipfile\n",
        "\n",
        "zipfile.ZipFile('project.zip').extractall('.')"
      ]
    },
    {
      "cell_type": "code",
      "source": [
        "from dtsc5502.version import __version__\n",
        "import dtsc5502.statistics as stats\n",
        "import dtsc5502.probabilities as probs\n",
        "\n",
        "print(__version__)\n",
        "lst = [1,2,3]\n",
        "print(stats.descriptive.mean(lst))\n",
        "print(probs.functions.factorial(3))"
      ],
      "metadata": {
        "colab": {
          "base_uri": "https://localhost:8080/"
        },
        "id": "9eWwaw1iRMj0",
        "outputId": "d680fe37-93a1-41ae-cf0b-ba2bf5de1ca7"
      },
      "execution_count": 5,
      "outputs": [
        {
          "output_type": "stream",
          "name": "stdout",
          "text": [
            "DTSC5502 Version: 0.1.0\n",
            "2.0\n",
            "6\n"
          ]
        }
      ]
    },
    {
      "cell_type": "code",
      "source": [
        "! git clone https://github.com/soumyareddy9977/project1.git"
      ],
      "metadata": {
        "colab": {
          "base_uri": "https://localhost:8080/"
        },
        "id": "OWY67DifRhVL",
        "outputId": "094870bb-2a33-4de9-f16e-9c6b71389c2e"
      },
      "execution_count": 1,
      "outputs": [
        {
          "output_type": "stream",
          "name": "stdout",
          "text": [
            "Cloning into 'project1'...\n",
            "remote: Enumerating objects: 15, done.\u001b[K\n",
            "remote: Counting objects: 100% (15/15), done.\u001b[K\n",
            "remote: Compressing objects: 100% (12/12), done.\u001b[K\n",
            "remote: Total 15 (delta 1), reused 15 (delta 1), pack-reused 0\u001b[K\n",
            "Receiving objects: 100% (15/15), done.\n",
            "Resolving deltas: 100% (1/1), done.\n"
          ]
        }
      ]
    },
    {
      "cell_type": "code",
      "source": [
        "from project1.dtsc5502.version import __version__\n",
        "import project1.dtsc5502.statistics as stats\n",
        "import project1.dtsc5502.probabilities as probs\n",
        "\n",
        "print(__version__)\n",
        "lst = [1,2,3]\n",
        "print(stats.descriptive.mean(lst))\n",
        "print(probs.functions.factorial(3))"
      ],
      "metadata": {
        "colab": {
          "base_uri": "https://localhost:8080/"
        },
        "id": "GA4ytHShW2jv",
        "outputId": "19452102-8f38-4b1a-f3c1-023a7e94631a"
      },
      "execution_count": 3,
      "outputs": [
        {
          "output_type": "stream",
          "name": "stdout",
          "text": [
            "DTSC5502 Version: 0.1.0\n",
            "2.0\n",
            "6\n"
          ]
        }
      ]
    }
  ]
}